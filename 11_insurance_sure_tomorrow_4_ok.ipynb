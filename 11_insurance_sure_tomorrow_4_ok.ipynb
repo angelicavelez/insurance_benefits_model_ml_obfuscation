{
 "cells": [
  {
   "attachments": {},
   "cell_type": "markdown",
   "metadata": {},
   "source": [
    "# Modelo de Machine Learning para la compañía \"Sure Tomorrow\""
   ]
  },
  {
   "attachments": {},
   "cell_type": "markdown",
   "metadata": {},
   "source": [
    "# Descripción"
   ]
  },
  {
   "attachments": {},
   "cell_type": "markdown",
   "metadata": {},
   "source": [
    "La compañía de seguros Sure Tomorrow quiere resolver varias tareas con la ayuda de machine learning y te pide que evalúes esa posibilidad.\n",
    "- Tarea 1: encontrar clientes que sean similares a un cliente determinado. Esto ayudará a los agentes de la compañía con el marketing.\n",
    "- Tarea 2: predecir la probabilidad de que un nuevo cliente reciba una prestación del seguro. ¿Puede un modelo de predictivo funcionar mejor que un modelo dummy?\n",
    "- Tarea 3: predecir el número de prestaciones de seguro que un nuevo cliente pueda recibir utilizando un modelo de regresión lineal.\n",
    "- Tarea 4: proteger los datos personales de los clientes sin afectar al modelo del ejercicio anterior. Es necesario desarrollar un algoritmo de transformación de datos que dificulte la recuperación de la información personal si los datos caen en manos equivocadas. Esto se denomina enmascaramiento u ofuscación de datos. Pero los datos deben protegerse de tal manera que no se vea afectada la calidad de los modelos de machine learning. No es necesario elegir el mejor modelo, basta con demostrar que el algoritmo funciona correctamente.\n"
   ]
  },
  {
   "attachments": {},
   "cell_type": "markdown",
   "metadata": {},
   "source": [
    "# Preprocesamiento y exploración de datos\n",
    "\n",
    "## Inicialización"
   ]
  },
  {
   "cell_type": "code",
   "execution_count": 1,
   "metadata": {},
   "outputs": [
    {
     "name": "stdout",
     "output_type": "stream",
     "text": [
      "Last updated: 2023-04-25T10:27:17.194026-05:00\n",
      "\n",
      "Python implementation: CPython\n",
      "Python version       : 3.9.15\n",
      "IPython version      : 8.12.0\n",
      "\n",
      "Compiler    : MSC v.1929 64 bit (AMD64)\n",
      "OS          : Windows\n",
      "Release     : 10\n",
      "Machine     : AMD64\n",
      "Processor   : Intel64 Family 6 Model 165 Stepping 2, GenuineIntel\n",
      "CPU cores   : 12\n",
      "Architecture: 64bit\n",
      "\n"
     ]
    }
   ],
   "source": [
    "%load_ext watermark\n",
    "%watermark"
   ]
  },
  {
   "cell_type": "code",
   "execution_count": 3,
   "metadata": {},
   "outputs": [],
   "source": [
    "import numpy as np\n",
    "import pandas as pd\n",
    "import seaborn as sns\n",
    "import matplotlib.pyplot as plt\n",
    "\n",
    "import sklearn.linear_model\n",
    "from sklearn.model_selection import train_test_split\n",
    "from sklearn.neighbors import NearestNeighbors\n",
    "from sklearn.preprocessing import MaxAbsScaler\n",
    "from sklearn.neighbors import KNeighborsClassifier\n",
    "from sklearn.metrics import f1_score, mean_squared_error, r2_score\n",
    "from sklearn.metrics import confusion_matrix\n",
    "import math\n",
    "from sklearn.utils import shuffle"
   ]
  },
  {
   "attachments": {},
   "cell_type": "markdown",
   "metadata": {},
   "source": [
    "## Carga de datos"
   ]
  },
  {
   "attachments": {},
   "cell_type": "markdown",
   "metadata": {},
   "source": [
    "Carga los datos y haz una revisión básica para comprobar que no hay problemas obvios."
   ]
  },
  {
   "cell_type": "code",
   "execution_count": 4,
   "metadata": {},
   "outputs": [],
   "source": [
    "try:\n",
    "    df = pd.read_csv('insurance_us.csv')\n",
    "except:\n",
    "    df = pd.read_csv('/datasets/insurance_us.csv')"
   ]
  },
  {
   "attachments": {},
   "cell_type": "markdown",
   "metadata": {},
   "source": [
    "Renombramos las columnas para que el código se vea más coherente con su estilo."
   ]
  },
  {
   "cell_type": "code",
   "execution_count": 5,
   "metadata": {},
   "outputs": [],
   "source": [
    "df = df.rename(columns={'Gender': 'gender', 'Age': 'age', 'Salary': 'income', 'Family members': 'family_members', 'Insurance benefits': 'insurance_benefits'})"
   ]
  },
  {
   "cell_type": "code",
   "execution_count": 6,
   "metadata": {},
   "outputs": [
    {
     "data": {
      "text/html": [
       "<div>\n",
       "<style scoped>\n",
       "    .dataframe tbody tr th:only-of-type {\n",
       "        vertical-align: middle;\n",
       "    }\n",
       "\n",
       "    .dataframe tbody tr th {\n",
       "        vertical-align: top;\n",
       "    }\n",
       "\n",
       "    .dataframe thead th {\n",
       "        text-align: right;\n",
       "    }\n",
       "</style>\n",
       "<table border=\"1\" class=\"dataframe\">\n",
       "  <thead>\n",
       "    <tr style=\"text-align: right;\">\n",
       "      <th></th>\n",
       "      <th>gender</th>\n",
       "      <th>age</th>\n",
       "      <th>income</th>\n",
       "      <th>family_members</th>\n",
       "      <th>insurance_benefits</th>\n",
       "    </tr>\n",
       "  </thead>\n",
       "  <tbody>\n",
       "    <tr>\n",
       "      <th>249</th>\n",
       "      <td>1</td>\n",
       "      <td>40.0</td>\n",
       "      <td>45300.0</td>\n",
       "      <td>5</td>\n",
       "      <td>0</td>\n",
       "    </tr>\n",
       "    <tr>\n",
       "      <th>1369</th>\n",
       "      <td>0</td>\n",
       "      <td>25.0</td>\n",
       "      <td>39300.0</td>\n",
       "      <td>0</td>\n",
       "      <td>0</td>\n",
       "    </tr>\n",
       "    <tr>\n",
       "      <th>3529</th>\n",
       "      <td>1</td>\n",
       "      <td>51.0</td>\n",
       "      <td>42400.0</td>\n",
       "      <td>0</td>\n",
       "      <td>2</td>\n",
       "    </tr>\n",
       "    <tr>\n",
       "      <th>1383</th>\n",
       "      <td>1</td>\n",
       "      <td>35.0</td>\n",
       "      <td>41000.0</td>\n",
       "      <td>0</td>\n",
       "      <td>0</td>\n",
       "    </tr>\n",
       "    <tr>\n",
       "      <th>4748</th>\n",
       "      <td>1</td>\n",
       "      <td>41.0</td>\n",
       "      <td>33700.0</td>\n",
       "      <td>2</td>\n",
       "      <td>0</td>\n",
       "    </tr>\n",
       "    <tr>\n",
       "      <th>300</th>\n",
       "      <td>0</td>\n",
       "      <td>44.0</td>\n",
       "      <td>47900.0</td>\n",
       "      <td>2</td>\n",
       "      <td>1</td>\n",
       "    </tr>\n",
       "    <tr>\n",
       "      <th>4984</th>\n",
       "      <td>1</td>\n",
       "      <td>49.0</td>\n",
       "      <td>40400.0</td>\n",
       "      <td>1</td>\n",
       "      <td>2</td>\n",
       "    </tr>\n",
       "    <tr>\n",
       "      <th>2619</th>\n",
       "      <td>0</td>\n",
       "      <td>32.0</td>\n",
       "      <td>39300.0</td>\n",
       "      <td>1</td>\n",
       "      <td>0</td>\n",
       "    </tr>\n",
       "    <tr>\n",
       "      <th>3180</th>\n",
       "      <td>1</td>\n",
       "      <td>33.0</td>\n",
       "      <td>44600.0</td>\n",
       "      <td>2</td>\n",
       "      <td>0</td>\n",
       "    </tr>\n",
       "    <tr>\n",
       "      <th>1743</th>\n",
       "      <td>0</td>\n",
       "      <td>29.0</td>\n",
       "      <td>31700.0</td>\n",
       "      <td>0</td>\n",
       "      <td>0</td>\n",
       "    </tr>\n",
       "  </tbody>\n",
       "</table>\n",
       "</div>"
      ],
      "text/plain": [
       "      gender   age   income  family_members  insurance_benefits\n",
       "249        1  40.0  45300.0               5                   0\n",
       "1369       0  25.0  39300.0               0                   0\n",
       "3529       1  51.0  42400.0               0                   2\n",
       "1383       1  35.0  41000.0               0                   0\n",
       "4748       1  41.0  33700.0               2                   0\n",
       "300        0  44.0  47900.0               2                   1\n",
       "4984       1  49.0  40400.0               1                   2\n",
       "2619       0  32.0  39300.0               1                   0\n",
       "3180       1  33.0  44600.0               2                   0\n",
       "1743       0  29.0  31700.0               0                   0"
      ]
     },
     "execution_count": 6,
     "metadata": {},
     "output_type": "execute_result"
    }
   ],
   "source": [
    "df.sample(10)"
   ]
  },
  {
   "cell_type": "code",
   "execution_count": 7,
   "metadata": {},
   "outputs": [
    {
     "name": "stdout",
     "output_type": "stream",
     "text": [
      "<class 'pandas.core.frame.DataFrame'>\n",
      "RangeIndex: 5000 entries, 0 to 4999\n",
      "Data columns (total 5 columns):\n",
      " #   Column              Non-Null Count  Dtype  \n",
      "---  ------              --------------  -----  \n",
      " 0   gender              5000 non-null   int64  \n",
      " 1   age                 5000 non-null   float64\n",
      " 2   income              5000 non-null   float64\n",
      " 3   family_members      5000 non-null   int64  \n",
      " 4   insurance_benefits  5000 non-null   int64  \n",
      "dtypes: float64(2), int64(3)\n",
      "memory usage: 195.4 KB\n"
     ]
    }
   ],
   "source": [
    "df.info()"
   ]
  },
  {
   "cell_type": "code",
   "execution_count": 8,
   "metadata": {},
   "outputs": [],
   "source": [
    "df['age'] = df['age'].astype('int64') "
   ]
  },
  {
   "cell_type": "code",
   "execution_count": 9,
   "metadata": {},
   "outputs": [
    {
     "name": "stdout",
     "output_type": "stream",
     "text": [
      "<class 'pandas.core.frame.DataFrame'>\n",
      "RangeIndex: 5000 entries, 0 to 4999\n",
      "Data columns (total 5 columns):\n",
      " #   Column              Non-Null Count  Dtype  \n",
      "---  ------              --------------  -----  \n",
      " 0   gender              5000 non-null   int64  \n",
      " 1   age                 5000 non-null   int64  \n",
      " 2   income              5000 non-null   float64\n",
      " 3   family_members      5000 non-null   int64  \n",
      " 4   insurance_benefits  5000 non-null   int64  \n",
      "dtypes: float64(1), int64(4)\n",
      "memory usage: 195.4 KB\n"
     ]
    }
   ],
   "source": [
    "df.info()"
   ]
  },
  {
   "cell_type": "code",
   "execution_count": 10,
   "metadata": {},
   "outputs": [
    {
     "name": "stdout",
     "output_type": "stream",
     "text": [
      "Duplicated  153\n"
     ]
    }
   ],
   "source": [
    "print('Duplicated ', df.duplicated().sum())"
   ]
  },
  {
   "attachments": {},
   "cell_type": "markdown",
   "metadata": {},
   "source": [
    "Eliminamos registros duplicados."
   ]
  },
  {
   "cell_type": "code",
   "execution_count": 11,
   "metadata": {},
   "outputs": [],
   "source": [
    "df = df.drop_duplicates()"
   ]
  },
  {
   "cell_type": "code",
   "execution_count": 12,
   "metadata": {},
   "outputs": [
    {
     "data": {
      "text/plain": [
       "(4847, 5)"
      ]
     },
     "execution_count": 12,
     "metadata": {},
     "output_type": "execute_result"
    }
   ],
   "source": [
    "df.shape"
   ]
  },
  {
   "attachments": {},
   "cell_type": "markdown",
   "metadata": {},
   "source": [
    "Revisemos nuestros datos:"
   ]
  },
  {
   "cell_type": "code",
   "execution_count": 13,
   "metadata": {},
   "outputs": [
    {
     "data": {
      "text/html": [
       "<div>\n",
       "<style scoped>\n",
       "    .dataframe tbody tr th:only-of-type {\n",
       "        vertical-align: middle;\n",
       "    }\n",
       "\n",
       "    .dataframe tbody tr th {\n",
       "        vertical-align: top;\n",
       "    }\n",
       "\n",
       "    .dataframe thead th {\n",
       "        text-align: right;\n",
       "    }\n",
       "</style>\n",
       "<table border=\"1\" class=\"dataframe\">\n",
       "  <thead>\n",
       "    <tr style=\"text-align: right;\">\n",
       "      <th></th>\n",
       "      <th>gender</th>\n",
       "      <th>age</th>\n",
       "      <th>income</th>\n",
       "      <th>family_members</th>\n",
       "      <th>insurance_benefits</th>\n",
       "    </tr>\n",
       "  </thead>\n",
       "  <tbody>\n",
       "    <tr>\n",
       "      <th>count</th>\n",
       "      <td>4847.000000</td>\n",
       "      <td>4847.000000</td>\n",
       "      <td>4847.000000</td>\n",
       "      <td>4847.000000</td>\n",
       "      <td>4847.000000</td>\n",
       "    </tr>\n",
       "    <tr>\n",
       "      <th>mean</th>\n",
       "      <td>0.498453</td>\n",
       "      <td>31.023932</td>\n",
       "      <td>39895.811842</td>\n",
       "      <td>1.203425</td>\n",
       "      <td>0.152259</td>\n",
       "    </tr>\n",
       "    <tr>\n",
       "      <th>std</th>\n",
       "      <td>0.500049</td>\n",
       "      <td>8.487995</td>\n",
       "      <td>9972.953985</td>\n",
       "      <td>1.098664</td>\n",
       "      <td>0.468934</td>\n",
       "    </tr>\n",
       "    <tr>\n",
       "      <th>min</th>\n",
       "      <td>0.000000</td>\n",
       "      <td>18.000000</td>\n",
       "      <td>5300.000000</td>\n",
       "      <td>0.000000</td>\n",
       "      <td>0.000000</td>\n",
       "    </tr>\n",
       "    <tr>\n",
       "      <th>25%</th>\n",
       "      <td>0.000000</td>\n",
       "      <td>24.000000</td>\n",
       "      <td>33200.000000</td>\n",
       "      <td>0.000000</td>\n",
       "      <td>0.000000</td>\n",
       "    </tr>\n",
       "    <tr>\n",
       "      <th>50%</th>\n",
       "      <td>0.000000</td>\n",
       "      <td>30.000000</td>\n",
       "      <td>40200.000000</td>\n",
       "      <td>1.000000</td>\n",
       "      <td>0.000000</td>\n",
       "    </tr>\n",
       "    <tr>\n",
       "      <th>75%</th>\n",
       "      <td>1.000000</td>\n",
       "      <td>37.000000</td>\n",
       "      <td>46600.000000</td>\n",
       "      <td>2.000000</td>\n",
       "      <td>0.000000</td>\n",
       "    </tr>\n",
       "    <tr>\n",
       "      <th>max</th>\n",
       "      <td>1.000000</td>\n",
       "      <td>65.000000</td>\n",
       "      <td>79000.000000</td>\n",
       "      <td>6.000000</td>\n",
       "      <td>5.000000</td>\n",
       "    </tr>\n",
       "  </tbody>\n",
       "</table>\n",
       "</div>"
      ],
      "text/plain": [
       "            gender          age        income  family_members   \n",
       "count  4847.000000  4847.000000   4847.000000     4847.000000  \\\n",
       "mean      0.498453    31.023932  39895.811842        1.203425   \n",
       "std       0.500049     8.487995   9972.953985        1.098664   \n",
       "min       0.000000    18.000000   5300.000000        0.000000   \n",
       "25%       0.000000    24.000000  33200.000000        0.000000   \n",
       "50%       0.000000    30.000000  40200.000000        1.000000   \n",
       "75%       1.000000    37.000000  46600.000000        2.000000   \n",
       "max       1.000000    65.000000  79000.000000        6.000000   \n",
       "\n",
       "       insurance_benefits  \n",
       "count         4847.000000  \n",
       "mean             0.152259  \n",
       "std              0.468934  \n",
       "min              0.000000  \n",
       "25%              0.000000  \n",
       "50%              0.000000  \n",
       "75%              0.000000  \n",
       "max              5.000000  "
      ]
     },
     "execution_count": 13,
     "metadata": {},
     "output_type": "execute_result"
    }
   ],
   "source": [
    "df.describe()"
   ]
  },
  {
   "attachments": {},
   "cell_type": "markdown",
   "metadata": {},
   "source": [
    "Observamos que género es una variable categórica (0 hombre y 1 mujer), tenemos edades desde los 18 a los 65 años. Los ingresos pueden estar entre 5300 y 79.000. Pueden tener de 0 a 6 miembros por familia y los beneficios están entre 0 a 5.\n",
    "\n",
    "En general nuestros datos están bien, no hay valores nulos que tratar, el tipo de datos de la columna `age` fue modificado como entero.\n",
    "\n",
    "Veamos gráficamente esta información:"
   ]
  },
  {
   "cell_type": "code",
   "execution_count": 14,
   "metadata": {},
   "outputs": [
    {
     "data": {
      "image/png": "[encoded data removed]",
      "text/plain": [
       "<Figure size 640x480 with 1 Axes>"
      ]
     },
     "metadata": {},
     "output_type": "display_data"
    }
   ],
   "source": [
    "df.gender.value_counts().plot(kind='bar')\n",
    "plt.title('Gender per client')\n",
    "plt.ylabel('client')\n",
    "plt.show()"
   ]
  },
  {
   "cell_type": "code",
   "execution_count": 15,
   "metadata": {},
   "outputs": [
    {
     "data": {
      "image/png": "[encoded data removed]",
      "text/plain": [
       "<Figure size 640x480 with 1 Axes>"
      ]
     },
     "metadata": {},
     "output_type": "display_data"
    }
   ],
   "source": [
    "df.age.hist(bins=20)\n",
    "plt.title('Age per client')\n",
    "plt.xlabel('age')\n",
    "plt.ylabel('client')\n",
    "plt.show()"
   ]
  },
  {
   "cell_type": "code",
   "execution_count": 16,
   "metadata": {},
   "outputs": [
    {
     "data": {
      "image/png": "[encoded data removed]",
      "text/plain": [
       "<Figure size 640x480 with 1 Axes>"
      ]
     },
     "metadata": {},
     "output_type": "display_data"
    }
   ],
   "source": [
    "df.income.hist(bins=20)\n",
    "plt.title('Income per client')\n",
    "plt.xlabel('income')\n",
    "plt.ylabel('client')\n",
    "plt.show()"
   ]
  },
  {
   "cell_type": "code",
   "execution_count": 17,
   "metadata": {},
   "outputs": [
    {
     "data": {
      "image/png": "[encoded data removed]",
      "text/plain": [
       "<Figure size 640x480 with 1 Axes>"
      ]
     },
     "metadata": {},
     "output_type": "display_data"
    }
   ],
   "source": [
    "df.family_members.value_counts().plot(kind='bar')\n",
    "plt.title('Family members per client')\n",
    "plt.ylabel('client')\n",
    "plt.show()"
   ]
  },
  {
   "cell_type": "code",
   "execution_count": 18,
   "metadata": {},
   "outputs": [
    {
     "data": {
      "image/png": "[encoded data removed]",
      "text/plain": [
       "<Figure size 640x480 with 1 Axes>"
      ]
     },
     "metadata": {},
     "output_type": "display_data"
    }
   ],
   "source": [
    "df.insurance_benefits.value_counts().plot(kind='bar')\n",
    "plt.title('Benefits per client')\n",
    "plt.ylabel('client')\n",
    "plt.show()"
   ]
  },
  {
   "attachments": {},
   "cell_type": "markdown",
   "metadata": {},
   "source": [
    "Revisemos valores extremos en las variables `age` y `income`"
   ]
  },
  {
   "cell_type": "code",
   "execution_count": 19,
   "metadata": {},
   "outputs": [
    {
     "data": {
      "image/png": "[encoded data removed]",
      "text/plain": [
       "<Figure size 640x480 with 1 Axes>"
      ]
     },
     "metadata": {},
     "output_type": "display_data"
    },
    {
     "data": {
      "image/png": "[encoded data removed]",
      "text/plain": [
       "<Figure size 640x480 with 1 Axes>"
      ]
     },
     "metadata": {},
     "output_type": "display_data"
    }
   ],
   "source": [
    "df[['age']].boxplot()\n",
    "plt.title('Age data distribution')\n",
    "plt.show()\n",
    "\n",
    "df[['income']].boxplot()\n",
    "plt.title('Income data distribution')\n",
    "plt.show()"
   ]
  },
  {
   "attachments": {},
   "cell_type": "markdown",
   "metadata": {},
   "source": [
    "A continuación eliminaremos los valores extremos."
   ]
  },
  {
   "cell_type": "code",
   "execution_count": 20,
   "metadata": {},
   "outputs": [],
   "source": [
    "# \"bounds\" function to calculate upper and lower limits\n",
    "def bounds(df, col):\n",
    "\n",
    "    Q1 = df[col].quantile(0.25)\n",
    "    Q3 = df[col].quantile(0.75)\n",
    "    IQR = Q3 - Q1\n",
    "    lim_min = (Q1 - 1.5 * IQR).astype('int')\n",
    "    lim_max = (Q3 + 1.5 * IQR).astype('int')\n",
    "\n",
    "    return [lim_min, lim_max]\n",
    "    # return a list with 2 values: lower and upper bound\n",
    "\n",
    "# --------------------------------------------------------\n",
    "\n",
    "# \"outliers\" function to find the indices of the outliers\n",
    "\n",
    "def outliers(df, col):\n",
    "    min, max = bounds(df, col)\n",
    "    return df[(df[col] <= min) | (df[col] >= max)].index\n",
    "\n",
    "# --------------------------------------------------------\n",
    "\n",
    "# \"clean_outliers\" function to remove outliers\n",
    "\n",
    "def clean_outliers(df, col):\n",
    "    indexes = outliers(df, col)\n",
    "    df.drop(indexes, inplace=True)\n",
    "\n",
    "\n",
    "# Columns to clean\n",
    "columns_selected = ['age', 'income']\n"
   ]
  },
  {
   "cell_type": "code",
   "execution_count": 21,
   "metadata": {},
   "outputs": [
    {
     "name": "stdout",
     "output_type": "stream",
     "text": [
      "removing outliers, total 1.11% \n",
      "\n"
     ]
    }
   ],
   "source": [
    "# Eliminamos los outliers\n",
    "\n",
    "total = len(df)\n",
    "aux = 0\n",
    "\n",
    "while True:\n",
    "    # Remove outliers in each column\n",
    "    for column in columns_selected:\n",
    "        clean_outliers(df, column)\n",
    "\n",
    "    total_df_clean = len(df)\n",
    "    percent = (total - total_df_clean) / total\n",
    "\n",
    "    # Exits when it can't be cleaned anymore\n",
    "    if total_df_clean == aux:\n",
    "        break\n",
    "    else:\n",
    "        aux = total_df_clean\n",
    "\n",
    "print(f'removing outliers, total {percent:.2%} \\n')"
   ]
  },
  {
   "cell_type": "code",
   "execution_count": 22,
   "metadata": {},
   "outputs": [],
   "source": [
    "df.reset_index(inplace=True, drop=True)"
   ]
  },
  {
   "cell_type": "code",
   "execution_count": 23,
   "metadata": {},
   "outputs": [
    {
     "data": {
      "text/html": [
       "<div>\n",
       "<style scoped>\n",
       "    .dataframe tbody tr th:only-of-type {\n",
       "        vertical-align: middle;\n",
       "    }\n",
       "\n",
       "    .dataframe tbody tr th {\n",
       "        vertical-align: top;\n",
       "    }\n",
       "\n",
       "    .dataframe thead th {\n",
       "        text-align: right;\n",
       "    }\n",
       "</style>\n",
       "<table border=\"1\" class=\"dataframe\">\n",
       "  <thead>\n",
       "    <tr style=\"text-align: right;\">\n",
       "      <th></th>\n",
       "      <th>gender</th>\n",
       "      <th>age</th>\n",
       "      <th>income</th>\n",
       "      <th>family_members</th>\n",
       "      <th>insurance_benefits</th>\n",
       "    </tr>\n",
       "  </thead>\n",
       "  <tbody>\n",
       "    <tr>\n",
       "      <th>0</th>\n",
       "      <td>1</td>\n",
       "      <td>41</td>\n",
       "      <td>49600.0</td>\n",
       "      <td>1</td>\n",
       "      <td>0</td>\n",
       "    </tr>\n",
       "    <tr>\n",
       "      <th>1</th>\n",
       "      <td>0</td>\n",
       "      <td>46</td>\n",
       "      <td>38000.0</td>\n",
       "      <td>1</td>\n",
       "      <td>1</td>\n",
       "    </tr>\n",
       "    <tr>\n",
       "      <th>2</th>\n",
       "      <td>0</td>\n",
       "      <td>29</td>\n",
       "      <td>21000.0</td>\n",
       "      <td>0</td>\n",
       "      <td>0</td>\n",
       "    </tr>\n",
       "    <tr>\n",
       "      <th>3</th>\n",
       "      <td>0</td>\n",
       "      <td>21</td>\n",
       "      <td>41700.0</td>\n",
       "      <td>2</td>\n",
       "      <td>0</td>\n",
       "    </tr>\n",
       "    <tr>\n",
       "      <th>4</th>\n",
       "      <td>1</td>\n",
       "      <td>28</td>\n",
       "      <td>26100.0</td>\n",
       "      <td>0</td>\n",
       "      <td>0</td>\n",
       "    </tr>\n",
       "  </tbody>\n",
       "</table>\n",
       "</div>"
      ],
      "text/plain": [
       "   gender  age   income  family_members  insurance_benefits\n",
       "0       1   41  49600.0               1                   0\n",
       "1       0   46  38000.0               1                   1\n",
       "2       0   29  21000.0               0                   0\n",
       "3       0   21  41700.0               2                   0\n",
       "4       1   28  26100.0               0                   0"
      ]
     },
     "execution_count": 23,
     "metadata": {},
     "output_type": "execute_result"
    }
   ],
   "source": [
    "df.head()"
   ]
  },
  {
   "cell_type": "code",
   "execution_count": 24,
   "metadata": {},
   "outputs": [
    {
     "data": {
      "image/png": "[encoded data removed]",
      "text/plain": [
       "<Figure size 640x480 with 1 Axes>"
      ]
     },
     "metadata": {},
     "output_type": "display_data"
    },
    {
     "data": {
      "image/png": "[encoded data removed]",
      "text/plain": [
       "<Figure size 640x480 with 1 Axes>"
      ]
     },
     "metadata": {},
     "output_type": "display_data"
    }
   ],
   "source": [
    "df[['age']].boxplot()\n",
    "plt.title('Age data distribution')\n",
    "plt.show()\n",
    "\n",
    "df[['income']].boxplot()\n",
    "plt.title('Income data distribution')\n",
    "plt.show()"
   ]
  },
  {
   "attachments": {},
   "cell_type": "markdown",
   "metadata": {},
   "source": [
    "Hemos eliminado los outliers."
   ]
  },
  {
   "cell_type": "code",
   "execution_count": 25,
   "metadata": {},
   "outputs": [
    {
     "data": {
      "text/plain": [
       "(4793, 5)"
      ]
     },
     "execution_count": 25,
     "metadata": {},
     "output_type": "execute_result"
    }
   ],
   "source": [
    "df.shape"
   ]
  },
  {
   "attachments": {},
   "cell_type": "markdown",
   "metadata": {},
   "source": [
    "# Tarea 1. Clientes similares"
   ]
  },
  {
   "attachments": {},
   "cell_type": "markdown",
   "metadata": {},
   "source": [
    "Escribiremos una función que devuelva los k vecinos más cercanos para un $n^{th}$ objeto basándose en una métrica de distancia especificada. A la hora de realizar esta tarea no debe tenerse en cuenta el número de prestaciones de seguro recibidas.\n",
    "\n",
    "Pruébalo para cuatro combinaciones de dos casos- Escalado\n",
    "  - los datos no están escalados\n",
    "  - los datos escalados (escalador MaxAbsScaler)\n",
    "- Métricas de distancia\n",
    "  - Euclidiana\n",
    "  - Manhattan"
   ]
  },
  {
   "cell_type": "code",
   "execution_count": 27,
   "metadata": {},
   "outputs": [],
   "source": [
    "feature_names = ['gender', 'age', 'income', 'family_members']"
   ]
  },
  {
   "cell_type": "code",
   "execution_count": 28,
   "metadata": {},
   "outputs": [],
   "source": [
    "def get_knn(df, n, k, metric_):\n",
    "    \n",
    "    \"\"\"\n",
    "    Devuelve los k vecinos más cercanos\n",
    "\n",
    "    :param df: DataFrame de pandas utilizado para encontrar objetos similares dentro del mismo lugar    \n",
    "    :param n: número de objetos para los que se buscan los vecinos más cercanos    \n",
    "    :param k: número de vecinos más cercanos a devolver\n",
    "    :param métrica: nombre de la métrica de distancia    \"\"\"\n",
    "\n",
    "    nbrs = NearestNeighbors(n_neighbors=n, metric=metric_).fit(df[feature_names].values)\n",
    "    \n",
    "    nbrs_distances, nbrs_indices = nbrs.kneighbors([df.iloc[n][feature_names]], k, return_distance=True)\n",
    "    \n",
    "    df_res = pd.concat([df.iloc[nbrs_indices[0]], \n",
    "                        pd.DataFrame(nbrs_distances.T, index=nbrs_indices[0], columns=['distance'])], \n",
    "                        axis=1)\n",
    "    \n",
    "    return df_res"
   ]
  },
  {
   "attachments": {},
   "cell_type": "markdown",
   "metadata": {},
   "source": [
    "Escalamos los datos:"
   ]
  },
  {
   "cell_type": "code",
   "execution_count": 29,
   "metadata": {},
   "outputs": [],
   "source": [
    "feature_names = ['gender', 'age', 'income', 'family_members']\n",
    "df_scaled = df.copy()\n",
    "\n",
    "transformer_mas = MaxAbsScaler()\n",
    "transformer_mas.fit(df[feature_names].to_numpy())\n",
    "df_scaled[feature_names] = transformer_mas.transform(df[feature_names].to_numpy())"
   ]
  },
  {
   "cell_type": "code",
   "execution_count": 30,
   "metadata": {},
   "outputs": [
    {
     "data": {
      "text/html": [
       "<div>\n",
       "<style scoped>\n",
       "    .dataframe tbody tr th:only-of-type {\n",
       "        vertical-align: middle;\n",
       "    }\n",
       "\n",
       "    .dataframe tbody tr th {\n",
       "        vertical-align: top;\n",
       "    }\n",
       "\n",
       "    .dataframe thead th {\n",
       "        text-align: right;\n",
       "    }\n",
       "</style>\n",
       "<table border=\"1\" class=\"dataframe\">\n",
       "  <thead>\n",
       "    <tr style=\"text-align: right;\">\n",
       "      <th></th>\n",
       "      <th>gender</th>\n",
       "      <th>age</th>\n",
       "      <th>income</th>\n",
       "      <th>family_members</th>\n",
       "      <th>insurance_benefits</th>\n",
       "    </tr>\n",
       "  </thead>\n",
       "  <tbody>\n",
       "    <tr>\n",
       "      <th>1050</th>\n",
       "      <td>1.0</td>\n",
       "      <td>0.490909</td>\n",
       "      <td>0.864253</td>\n",
       "      <td>0.000000</td>\n",
       "      <td>0</td>\n",
       "    </tr>\n",
       "    <tr>\n",
       "      <th>1985</th>\n",
       "      <td>0.0</td>\n",
       "      <td>0.618182</td>\n",
       "      <td>0.586727</td>\n",
       "      <td>0.333333</td>\n",
       "      <td>0</td>\n",
       "    </tr>\n",
       "    <tr>\n",
       "      <th>4403</th>\n",
       "      <td>0.0</td>\n",
       "      <td>0.418182</td>\n",
       "      <td>0.612368</td>\n",
       "      <td>0.166667</td>\n",
       "      <td>0</td>\n",
       "    </tr>\n",
       "    <tr>\n",
       "      <th>3703</th>\n",
       "      <td>1.0</td>\n",
       "      <td>0.563636</td>\n",
       "      <td>0.580694</td>\n",
       "      <td>0.000000</td>\n",
       "      <td>0</td>\n",
       "    </tr>\n",
       "    <tr>\n",
       "      <th>4389</th>\n",
       "      <td>0.0</td>\n",
       "      <td>0.654545</td>\n",
       "      <td>0.837104</td>\n",
       "      <td>0.333333</td>\n",
       "      <td>0</td>\n",
       "    </tr>\n",
       "  </tbody>\n",
       "</table>\n",
       "</div>"
      ],
      "text/plain": [
       "      gender       age    income  family_members  insurance_benefits\n",
       "1050     1.0  0.490909  0.864253        0.000000                   0\n",
       "1985     0.0  0.618182  0.586727        0.333333                   0\n",
       "4403     0.0  0.418182  0.612368        0.166667                   0\n",
       "3703     1.0  0.563636  0.580694        0.000000                   0\n",
       "4389     0.0  0.654545  0.837104        0.333333                   0"
      ]
     },
     "execution_count": 30,
     "metadata": {},
     "output_type": "execute_result"
    }
   ],
   "source": [
    "df_scaled.sample(5)"
   ]
  },
  {
   "cell_type": "code",
   "execution_count": 31,
   "metadata": {},
   "outputs": [
    {
     "data": {
      "text/html": [
       "<div>\n",
       "<style scoped>\n",
       "    .dataframe tbody tr th:only-of-type {\n",
       "        vertical-align: middle;\n",
       "    }\n",
       "\n",
       "    .dataframe tbody tr th {\n",
       "        vertical-align: top;\n",
       "    }\n",
       "\n",
       "    .dataframe thead th {\n",
       "        text-align: right;\n",
       "    }\n",
       "</style>\n",
       "<table border=\"1\" class=\"dataframe\">\n",
       "  <thead>\n",
       "    <tr style=\"text-align: right;\">\n",
       "      <th></th>\n",
       "      <th>gender</th>\n",
       "      <th>age</th>\n",
       "      <th>income</th>\n",
       "      <th>family_members</th>\n",
       "      <th>insurance_benefits</th>\n",
       "    </tr>\n",
       "  </thead>\n",
       "  <tbody>\n",
       "    <tr>\n",
       "      <th>count</th>\n",
       "      <td>4793.000000</td>\n",
       "      <td>4793.000000</td>\n",
       "      <td>4793.000000</td>\n",
       "      <td>4793.000000</td>\n",
       "      <td>4793.000000</td>\n",
       "    </tr>\n",
       "    <tr>\n",
       "      <th>mean</th>\n",
       "      <td>0.497601</td>\n",
       "      <td>0.562146</td>\n",
       "      <td>0.602189</td>\n",
       "      <td>0.200709</td>\n",
       "      <td>0.140413</td>\n",
       "    </tr>\n",
       "    <tr>\n",
       "      <th>std</th>\n",
       "      <td>0.500046</td>\n",
       "      <td>0.151788</td>\n",
       "      <td>0.145533</td>\n",
       "      <td>0.183218</td>\n",
       "      <td>0.423265</td>\n",
       "    </tr>\n",
       "    <tr>\n",
       "      <th>min</th>\n",
       "      <td>0.000000</td>\n",
       "      <td>0.327273</td>\n",
       "      <td>0.202112</td>\n",
       "      <td>0.000000</td>\n",
       "      <td>0.000000</td>\n",
       "    </tr>\n",
       "    <tr>\n",
       "      <th>25%</th>\n",
       "      <td>0.000000</td>\n",
       "      <td>0.436364</td>\n",
       "      <td>0.502262</td>\n",
       "      <td>0.000000</td>\n",
       "      <td>0.000000</td>\n",
       "    </tr>\n",
       "    <tr>\n",
       "      <th>50%</th>\n",
       "      <td>0.000000</td>\n",
       "      <td>0.545455</td>\n",
       "      <td>0.606335</td>\n",
       "      <td>0.166667</td>\n",
       "      <td>0.000000</td>\n",
       "    </tr>\n",
       "    <tr>\n",
       "      <th>75%</th>\n",
       "      <td>1.000000</td>\n",
       "      <td>0.672727</td>\n",
       "      <td>0.702866</td>\n",
       "      <td>0.333333</td>\n",
       "      <td>0.000000</td>\n",
       "    </tr>\n",
       "    <tr>\n",
       "      <th>max</th>\n",
       "      <td>1.000000</td>\n",
       "      <td>1.000000</td>\n",
       "      <td>1.000000</td>\n",
       "      <td>1.000000</td>\n",
       "      <td>3.000000</td>\n",
       "    </tr>\n",
       "  </tbody>\n",
       "</table>\n",
       "</div>"
      ],
      "text/plain": [
       "            gender          age       income  family_members   \n",
       "count  4793.000000  4793.000000  4793.000000     4793.000000  \\\n",
       "mean      0.497601     0.562146     0.602189        0.200709   \n",
       "std       0.500046     0.151788     0.145533        0.183218   \n",
       "min       0.000000     0.327273     0.202112        0.000000   \n",
       "25%       0.000000     0.436364     0.502262        0.000000   \n",
       "50%       0.000000     0.545455     0.606335        0.166667   \n",
       "75%       1.000000     0.672727     0.702866        0.333333   \n",
       "max       1.000000     1.000000     1.000000        1.000000   \n",
       "\n",
       "       insurance_benefits  \n",
       "count         4793.000000  \n",
       "mean             0.140413  \n",
       "std              0.423265  \n",
       "min              0.000000  \n",
       "25%              0.000000  \n",
       "50%              0.000000  \n",
       "75%              0.000000  \n",
       "max              3.000000  "
      ]
     },
     "execution_count": 31,
     "metadata": {},
     "output_type": "execute_result"
    }
   ],
   "source": [
    "df_scaled.describe()"
   ]
  },
  {
   "attachments": {},
   "cell_type": "markdown",
   "metadata": {},
   "source": [
    "Ahora, vamos a obtener registros similares para uno determinado, para cada combinación con: n = cliente al azar \"2550\" y k = 10 vecinos cercanos a encontrar.\n",
    "\n",
    "4 Casos a probar:\n",
    "- Caso 1: distancia Euclidean con datos no escalados\n",
    "- Caso 2: distancia Manhattan con datos no escalados\n",
    "- Caso 3: distancia Euclidean con datos escalados\n",
    "- Caso 4: distancia Manhattan con datos escalados\n"
   ]
  },
  {
   "cell_type": "code",
   "execution_count": 32,
   "metadata": {},
   "outputs": [
    {
     "data": {
      "text/plain": [
       "2550      0.000000\n",
       "905       5.000000\n",
       "3412     10.099505\n",
       "2718     16.124515\n",
       "4530     17.029386\n",
       "1470    100.129916\n",
       "625     100.737282\n",
       "4476    100.851376\n",
       "767     101.123687\n",
       "3879    101.271911\n",
       "Name: distance, dtype: float64"
      ]
     },
     "execution_count": 32,
     "metadata": {},
     "output_type": "execute_result"
    }
   ],
   "source": [
    "# Caso 1\n",
    "get_knn(df, 2550, 10, 'euclidean').distance"
   ]
  },
  {
   "cell_type": "code",
   "execution_count": 33,
   "metadata": {},
   "outputs": [
    {
     "data": {
      "text/plain": [
       "2550      0.0\n",
       "905       5.0\n",
       "3412     12.0\n",
       "2718     18.0\n",
       "4530     18.0\n",
       "1470    106.0\n",
       "625     114.0\n",
       "4476    115.0\n",
       "3879    116.0\n",
       "767     116.0\n",
       "Name: distance, dtype: float64"
      ]
     },
     "execution_count": 33,
     "metadata": {},
     "output_type": "execute_result"
    }
   ],
   "source": [
    "# Caso 2\n",
    "get_knn(df, 2550, 10, 'cityblock').distance"
   ]
  },
  {
   "cell_type": "code",
   "execution_count": 34,
   "metadata": {},
   "outputs": [
    {
     "data": {
      "text/plain": [
       "2550    0.000000\n",
       "2118    0.021116\n",
       "2704    0.024614\n",
       "1826    0.045381\n",
       "1921    0.054299\n",
       "3420    0.060332\n",
       "2417    0.063075\n",
       "2476    0.071724\n",
       "4477    0.073184\n",
       "2573    0.073842\n",
       "Name: distance, dtype: float64"
      ]
     },
     "execution_count": 34,
     "metadata": {},
     "output_type": "execute_result"
    }
   ],
   "source": [
    "# Caso 3\n",
    "get_knn(df_scaled, 2550, 10, 'euclidean').distance"
   ]
  },
  {
   "cell_type": "code",
   "execution_count": 35,
   "metadata": {},
   "outputs": [
    {
     "data": {
      "text/plain": [
       "2550    0.000000\n",
       "2118    0.021116\n",
       "2704    0.034773\n",
       "1921    0.054299\n",
       "3420    0.060332\n",
       "1826    0.063513\n",
       "2207    0.081448\n",
       "2417    0.086220\n",
       "2476    0.087563\n",
       "1027    0.088989\n",
       "Name: distance, dtype: float64"
      ]
     },
     "execution_count": 35,
     "metadata": {},
     "output_type": "execute_result"
    }
   ],
   "source": [
    "# Caso 4\n",
    "get_knn(df_scaled, 2550, 10, 'cityblock').distance"
   ]
  },
  {
   "attachments": {},
   "cell_type": "markdown",
   "metadata": {},
   "source": [
    "Como observamos los 4 casos, pudimos obtener 10 vecinos cercanos del cliente con índice 2550, probando las distancias Euclideana y Manhattan (cityblock) en datos escalado y no escalados."
   ]
  },
  {
   "attachments": {},
   "cell_type": "markdown",
   "metadata": {},
   "source": [
    "**¿El hecho de que los datos no estén escalados afecta al algoritmo kNN? Si es así, ¿cómo se manifiesta?** \n",
    "\n",
    "Las distancias que obtuvimos usando los datos no escalados son más grandes que las obtenidas desde los datos escalados, esto tiene sentido ya que los datos escalados están dentro del rango 0 a 1."
   ]
  },
  {
   "attachments": {},
   "cell_type": "markdown",
   "metadata": {},
   "source": [
    "**¿Qué tan similares son los resultados al utilizar la métrica de distancia Manhattan (independientemente del escalado)?** \n",
    "\n",
    "Los vecinos que encontramos usando la distancia Manhattan son diferentes tanto desde los datos no escalados como desde los escalados. No existen coincidencia."
   ]
  },
  {
   "attachments": {},
   "cell_type": "markdown",
   "metadata": {},
   "source": [
    "# Tarea 2. ¿Es probable que el cliente reciba una prestación del seguro?"
   ]
  },
  {
   "attachments": {},
   "cell_type": "markdown",
   "metadata": {},
   "source": [
    "Evaluaremos si el enfoque de clasificación K-Nearest-Neighbor puede funcionar mejor un modelo dummy. Toma en cuenta lo siguiente:\n",
    "\n",
    "- El objetivo es el valor de `insurance_benefits` superior a cero.\n",
    "- Construye un modelo clasificador basado en KNN. Mide su calidad con la métrica F1 para k=1...10 tanto para los datos originales como para los datos  escalados. \n",
    "- Observaremos cómo k puede influir en la métrica de evaluación y si el escalado de los datos provoca alguna diferencia.\n",
    "- El modelo dummy debería devolver \"1\" con cierta probabilidad. Probemos el modelo con cuatro valores de probabilidad: 0, la probabilidad de pagar cualquier prestación del seguro, 0.5, 1.\n",
    "- Divide todos los datos correspondientes a las etapas de entrenamiento/prueba respetando la proporción 70:30."
   ]
  },
  {
   "attachments": {},
   "cell_type": "markdown",
   "metadata": {},
   "source": [
    "Crearemos una columna adicional `insurance_benefits_received` para establecer si un cliente recibe o no una prestación de seguro, basándonos en la columna `insurance_benefits`."
   ]
  },
  {
   "cell_type": "code",
   "execution_count": 36,
   "metadata": {},
   "outputs": [],
   "source": [
    "# сalcula el objetivo\n",
    "df['insurance_benefits_received']        =        df['insurance_benefits'] > 0\n",
    "df_scaled['insurance_benefits_received'] = df_scaled['insurance_benefits'] > 0"
   ]
  },
  {
   "cell_type": "code",
   "execution_count": 37,
   "metadata": {},
   "outputs": [
    {
     "data": {
      "text/html": [
       "<div>\n",
       "<style scoped>\n",
       "    .dataframe tbody tr th:only-of-type {\n",
       "        vertical-align: middle;\n",
       "    }\n",
       "\n",
       "    .dataframe tbody tr th {\n",
       "        vertical-align: top;\n",
       "    }\n",
       "\n",
       "    .dataframe thead th {\n",
       "        text-align: right;\n",
       "    }\n",
       "</style>\n",
       "<table border=\"1\" class=\"dataframe\">\n",
       "  <thead>\n",
       "    <tr style=\"text-align: right;\">\n",
       "      <th></th>\n",
       "      <th>gender</th>\n",
       "      <th>age</th>\n",
       "      <th>income</th>\n",
       "      <th>family_members</th>\n",
       "      <th>insurance_benefits</th>\n",
       "      <th>insurance_benefits_received</th>\n",
       "    </tr>\n",
       "  </thead>\n",
       "  <tbody>\n",
       "    <tr>\n",
       "      <th>432</th>\n",
       "      <td>1</td>\n",
       "      <td>27</td>\n",
       "      <td>41300.0</td>\n",
       "      <td>1</td>\n",
       "      <td>0</td>\n",
       "      <td>False</td>\n",
       "    </tr>\n",
       "    <tr>\n",
       "      <th>1371</th>\n",
       "      <td>0</td>\n",
       "      <td>37</td>\n",
       "      <td>21700.0</td>\n",
       "      <td>1</td>\n",
       "      <td>0</td>\n",
       "      <td>False</td>\n",
       "    </tr>\n",
       "    <tr>\n",
       "      <th>4142</th>\n",
       "      <td>1</td>\n",
       "      <td>30</td>\n",
       "      <td>24100.0</td>\n",
       "      <td>1</td>\n",
       "      <td>0</td>\n",
       "      <td>False</td>\n",
       "    </tr>\n",
       "    <tr>\n",
       "      <th>1886</th>\n",
       "      <td>1</td>\n",
       "      <td>33</td>\n",
       "      <td>33200.0</td>\n",
       "      <td>1</td>\n",
       "      <td>0</td>\n",
       "      <td>False</td>\n",
       "    </tr>\n",
       "    <tr>\n",
       "      <th>2516</th>\n",
       "      <td>1</td>\n",
       "      <td>45</td>\n",
       "      <td>51000.0</td>\n",
       "      <td>2</td>\n",
       "      <td>1</td>\n",
       "      <td>True</td>\n",
       "    </tr>\n",
       "  </tbody>\n",
       "</table>\n",
       "</div>"
      ],
      "text/plain": [
       "      gender  age   income  family_members  insurance_benefits   \n",
       "432        1   27  41300.0               1                   0  \\\n",
       "1371       0   37  21700.0               1                   0   \n",
       "4142       1   30  24100.0               1                   0   \n",
       "1886       1   33  33200.0               1                   0   \n",
       "2516       1   45  51000.0               2                   1   \n",
       "\n",
       "      insurance_benefits_received  \n",
       "432                         False  \n",
       "1371                        False  \n",
       "4142                        False  \n",
       "1886                        False  \n",
       "2516                         True  "
      ]
     },
     "execution_count": 37,
     "metadata": {},
     "output_type": "execute_result"
    }
   ],
   "source": [
    "df.sample(5)"
   ]
  },
  {
   "cell_type": "code",
   "execution_count": 38,
   "metadata": {},
   "outputs": [
    {
     "data": {
      "text/html": [
       "<div>\n",
       "<style scoped>\n",
       "    .dataframe tbody tr th:only-of-type {\n",
       "        vertical-align: middle;\n",
       "    }\n",
       "\n",
       "    .dataframe tbody tr th {\n",
       "        vertical-align: top;\n",
       "    }\n",
       "\n",
       "    .dataframe thead th {\n",
       "        text-align: right;\n",
       "    }\n",
       "</style>\n",
       "<table border=\"1\" class=\"dataframe\">\n",
       "  <thead>\n",
       "    <tr style=\"text-align: right;\">\n",
       "      <th></th>\n",
       "      <th>gender</th>\n",
       "      <th>age</th>\n",
       "      <th>income</th>\n",
       "      <th>family_members</th>\n",
       "      <th>insurance_benefits</th>\n",
       "      <th>insurance_benefits_received</th>\n",
       "    </tr>\n",
       "  </thead>\n",
       "  <tbody>\n",
       "    <tr>\n",
       "      <th>459</th>\n",
       "      <td>0.0</td>\n",
       "      <td>0.600000</td>\n",
       "      <td>0.387632</td>\n",
       "      <td>0.500000</td>\n",
       "      <td>0</td>\n",
       "      <td>False</td>\n",
       "    </tr>\n",
       "    <tr>\n",
       "      <th>1230</th>\n",
       "      <td>1.0</td>\n",
       "      <td>0.618182</td>\n",
       "      <td>0.598793</td>\n",
       "      <td>0.333333</td>\n",
       "      <td>0</td>\n",
       "      <td>False</td>\n",
       "    </tr>\n",
       "    <tr>\n",
       "      <th>1495</th>\n",
       "      <td>1.0</td>\n",
       "      <td>0.563636</td>\n",
       "      <td>0.360483</td>\n",
       "      <td>0.166667</td>\n",
       "      <td>0</td>\n",
       "      <td>False</td>\n",
       "    </tr>\n",
       "    <tr>\n",
       "      <th>916</th>\n",
       "      <td>0.0</td>\n",
       "      <td>0.727273</td>\n",
       "      <td>0.778281</td>\n",
       "      <td>0.000000</td>\n",
       "      <td>0</td>\n",
       "      <td>False</td>\n",
       "    </tr>\n",
       "    <tr>\n",
       "      <th>2225</th>\n",
       "      <td>1.0</td>\n",
       "      <td>0.727273</td>\n",
       "      <td>0.619910</td>\n",
       "      <td>0.000000</td>\n",
       "      <td>0</td>\n",
       "      <td>False</td>\n",
       "    </tr>\n",
       "  </tbody>\n",
       "</table>\n",
       "</div>"
      ],
      "text/plain": [
       "      gender       age    income  family_members  insurance_benefits   \n",
       "459      0.0  0.600000  0.387632        0.500000                   0  \\\n",
       "1230     1.0  0.618182  0.598793        0.333333                   0   \n",
       "1495     1.0  0.563636  0.360483        0.166667                   0   \n",
       "916      0.0  0.727273  0.778281        0.000000                   0   \n",
       "2225     1.0  0.727273  0.619910        0.000000                   0   \n",
       "\n",
       "      insurance_benefits_received  \n",
       "459                         False  \n",
       "1230                        False  \n",
       "1495                        False  \n",
       "916                         False  \n",
       "2225                        False  "
      ]
     },
     "execution_count": 38,
     "metadata": {},
     "output_type": "execute_result"
    }
   ],
   "source": [
    "df_scaled.sample(5)"
   ]
  },
  {
   "cell_type": "code",
   "execution_count": 39,
   "metadata": {},
   "outputs": [
    {
     "data": {
      "image/png": "[encoded data removed]",
      "text/plain": [
       "<Figure size 640x480 with 1 Axes>"
      ]
     },
     "metadata": {},
     "output_type": "display_data"
    }
   ],
   "source": [
    "# comprueba el desequilibrio de clases con value_counts()\n",
    "\n",
    "df.insurance_benefits_received.value_counts().plot(kind='bar')\n",
    "plt.title('Clients receive an insurance benefit')\n",
    "plt.ylabel('clients')\n",
    "plt.show()"
   ]
  },
  {
   "attachments": {},
   "cell_type": "markdown",
   "metadata": {},
   "source": [
    "Podemos notar que existe un desequilibrio de clase para `insurance_benefits_received`. Más adelante probaremos nuestro modelo con las clases equilibradas."
   ]
  },
  {
   "attachments": {},
   "cell_type": "markdown",
   "metadata": {},
   "source": [
    "## 1-Modelo dummy\n",
    "\n",
    "Crearemos un modelo aleatorio. Debería devolver \"1\" con cierta probabilidad. Probaremos el modelo con 4 valores de probabilidad: a) 0, b) probabilidad de pagar cualquier prestación del seguro, c) 0.5 y d) 1. \n",
    "\n",
    "La probabilidad de pagar cualquier prestación del seguro puede definirse como\n",
    "\n",
    "$\n",
    "P\\{\\text{prestación de seguro recibida}\\}=\\frac{\\text{número de clientes que han recibido alguna prestación de seguro}}{\\text{número total de clientes}}.\n",
    "$\n",
    "\n",
    "Mediremos calidad con F1."
   ]
  },
  {
   "cell_type": "code",
   "execution_count": 40,
   "metadata": {},
   "outputs": [],
   "source": [
    "# Función para evaluar el clasificador\n",
    "\n",
    "def eval_classifier(y_true, y_pred):\n",
    "    \n",
    "    f1_score = sklearn.metrics.f1_score(y_true, y_pred)\n",
    "    print(f'F1: {f1_score:.2f}')\n",
    "    \n",
    "    cm = confusion_matrix(y_true, y_pred, normalize='all')\n",
    "    cm = np.round(cm, decimals=2)\n",
    "    print('Matriz de confusión:')\n",
    "    print(cm)"
   ]
  },
  {
   "cell_type": "code",
   "execution_count": 41,
   "metadata": {},
   "outputs": [],
   "source": [
    "# generar la salida de un modelo aleatorio\n",
    "\n",
    "def rnd_model_predict(P, size, seed=42):\n",
    "\n",
    "    rng = np.random.default_rng(seed=seed)\n",
    "    return rng.binomial(n=1, p=P, size=size)"
   ]
  },
  {
   "attachments": {},
   "cell_type": "markdown",
   "metadata": {},
   "source": [
    "Obtenidas nuestras funciones las usaremos para ejecutar nuestro modelo aletarorio de acuerdo a las 4 probabilidades que definimos:"
   ]
  },
  {
   "cell_type": "code",
   "execution_count": 42,
   "metadata": {},
   "outputs": [
    {
     "name": "stdout",
     "output_type": "stream",
     "text": [
      "La probabilidad: 0.00\n",
      "F1: 0.00\n",
      "Matriz de confusión:\n",
      "[[0.89 0.  ]\n",
      " [0.11 0.  ]]\n",
      "\n",
      "La probabilidad: 0.11\n",
      "F1: 0.10\n",
      "Matriz de confusión:\n",
      "[[0.79 0.1 ]\n",
      " [0.1  0.01]]\n",
      "\n",
      "La probabilidad: 0.50\n",
      "F1: 0.18\n",
      "Matriz de confusión:\n",
      "[[0.45 0.44]\n",
      " [0.06 0.05]]\n",
      "\n",
      "La probabilidad: 1.00\n",
      "F1: 0.20\n",
      "Matriz de confusión:\n",
      "[[0.   0.89]\n",
      " [0.   0.11]]\n",
      "\n"
     ]
    }
   ],
   "source": [
    "pr = df['insurance_benefits_received'].sum() / len(df)\n",
    "\n",
    "for P in [0, pr, 0.5, 1]:\n",
    "\n",
    "    print(f'La probabilidad: {P:.2f}')\n",
    "    y_pred_rnd = rnd_model_predict(P, len(df))\n",
    "    \n",
    "    eval_classifier(df['insurance_benefits_received'], y_pred_rnd)\n",
    "    \n",
    "    print()"
   ]
  },
  {
   "attachments": {},
   "cell_type": "markdown",
   "metadata": {},
   "source": [
    "Podemos observar que ha medida que aumentamos el umbral de probabilidad, las respuestas de la clase positiva \"1\" aumentarán; podemos confirmar esto mirando como nuestra métrica F1 aumenta su valor indicando que, a mayor probabilidad mejora la calidad del modelo."
   ]
  },
  {
   "attachments": {},
   "cell_type": "markdown",
   "metadata": {},
   "source": [
    "## 2-Modelo Clasificador K-NN\n",
    "\n",
    "Construiremos un clasificador basado en KNN y mediremos su calidad con la métrica F1 para k=1...10 tanto para los datos originales como para los escalados."
   ]
  },
  {
   "cell_type": "code",
   "execution_count": 43,
   "metadata": {},
   "outputs": [],
   "source": [
    "# Función para segmentar de datos en entrenamiento y prueba 70:30\n",
    "\n",
    "def split_data(df):\n",
    "    features = df.drop(['insurance_benefits_received', 'insurance_benefits'], axis=1)\n",
    "    target = df['insurance_benefits_received']\n",
    "\n",
    "    X_train, X_test, y_train, y_test = train_test_split(features,\n",
    "                                                        target,\n",
    "                                                        test_size=0.30,\n",
    "                                                        random_state=12345)\n",
    "    \n",
    "    # para revisar tamaños descomenta la siguiente linea\n",
    "    # print(f'Size train data X={X_train.shape}, y={y_train.shape}\\nSize train data X={X_test.shape}, y={y_test.shape}')\n",
    "\n",
    "    return X_train, X_test, y_train, y_test "
   ]
  },
  {
   "cell_type": "code",
   "execution_count": 44,
   "metadata": {},
   "outputs": [
    {
     "name": "stdout",
     "output_type": "stream",
     "text": [
      "\n",
      "Unscaled data:\n",
      "F1 score with 1 neighbors 0.62\n",
      "F1 score with 2 neighbors 0.30\n",
      "F1 score with 3 neighbors 0.33\n",
      "F1 score with 4 neighbors 0.16\n",
      "F1 score with 5 neighbors 0.19\n",
      "F1 score with 6 neighbors 0.05\n",
      "F1 score with 7 neighbors 0.05\n",
      "F1 score with 8 neighbors 0.02\n",
      "F1 score with 9 neighbors 0.02\n",
      "F1 score with 10 neighbors 0.01\n",
      "\n",
      "Scaled data:\n",
      "F1 score with 1 neighbors 0.95\n",
      "F1 score with 2 neighbors 0.91\n",
      "F1 score with 3 neighbors 0.91\n",
      "F1 score with 4 neighbors 0.89\n",
      "F1 score with 5 neighbors 0.90\n",
      "F1 score with 6 neighbors 0.88\n",
      "F1 score with 7 neighbors 0.89\n",
      "F1 score with 8 neighbors 0.87\n",
      "F1 score with 9 neighbors 0.90\n",
      "F1 score with 10 neighbors 0.86\n"
     ]
    }
   ],
   "source": [
    "# Clasificador k-Nearest Neighbor con datos sin escalar y escalados\n",
    "\n",
    "dataset = {'Unscaled data':df, 'Scaled data':df_scaled}\n",
    "\n",
    "scores_summary = pd.DataFrame(index=[1,2,3,4,5,6,7,8,9,10])\n",
    "\n",
    "for name, data in dataset.items():\n",
    "    \n",
    "    # Segmentar datos\n",
    "    X_train, X_test, y_train, y_test = split_data(data)\n",
    "    \n",
    "    print(f'\\n{name}:')\n",
    "\n",
    "    vector_score = []\n",
    "    for n_neighbors in range(1,11):\n",
    "        knn = KNeighborsClassifier(n_neighbors)\n",
    "        knn.fit(X_train, y_train)\n",
    "        predict = knn.predict(X_test)\n",
    "        score = f1_score(y_test, predict)\n",
    "        \n",
    "        print(f'F1 score with {n_neighbors} neighbors {score:.2f}')\n",
    "        vector_score.append(score)\n",
    "\n",
    "    scores_summary[name+'_f1'] = vector_score"
   ]
  },
  {
   "cell_type": "code",
   "execution_count": 45,
   "metadata": {},
   "outputs": [
    {
     "data": {
      "image/png": "[encoded data removed]",
      "text/plain": [
       "<Figure size 1000x500 with 1 Axes>"
      ]
     },
     "metadata": {},
     "output_type": "display_data"
    }
   ],
   "source": [
    "# Graficamos los scores\n",
    "\n",
    "scores_summary.plot(kind='bar', figsize=(10,5))\n",
    "plt.xlabel('neighbors')\n",
    "plt.ylabel('F1 score')\n",
    "plt.title('Scores of classifer K Nearest Neighbors')\n",
    "plt.show()"
   ]
  },
  {
   "attachments": {},
   "cell_type": "markdown",
   "metadata": {},
   "source": [
    "Hemos obtenido los score F1 de nuestro clasificador para el conjunto de datos sin escalar y para el conjunto de datos escalados. \n",
    "\n",
    "En los resultados con datos no escalados, podemos observar una calidad muy baja de nuestro modelo y podemos ver claramente entre más vecinos nuestro algoritmo KNN tiene peor calidad. Por otro lado los score calculados con la data escalada no decrecen ni crecen, se mantienen sobre el un score F1 de 0.86, lo cual nos proporciona una mejor calidad.\n",
    "\n",
    "\n",
    "A continuación realizaremos este mismo modelo con la diferencia que vamos a equilibrar nuestras clases que estan desequilibradas, y podremos saber si este es un factor que nos ayudaría a mejorar la calidad de nuestro modelo clasificador."
   ]
  },
  {
   "cell_type": "code",
   "execution_count": 46,
   "metadata": {},
   "outputs": [],
   "source": [
    "# Función submuestreo\n",
    "\n",
    "def downsample(features, target, fraction):\n",
    "\n",
    "    # Dividir el conjunto de datos de entrenamiento en observaciones negativas y positivas\n",
    "    features_zeros = features[target == 0]\n",
    "    features_ones = features[target == 1]\n",
    "    target_zeros = target[target == 0]\n",
    "    target_ones = target[target == 1]\n",
    "\n",
    "    # Soltar al azar una parte de las observaciones negativas\n",
    "    # Crear una nueva muestra de entrenamiento basada en los datos obtenidos después de la caída\n",
    "    features_downsampled = pd.concat([features_zeros.sample(frac=fraction, random_state=12345)] + [features_ones])\n",
    "    target_downsampled   = pd.concat([  target_zeros.sample(frac=fraction, random_state=12345)] + [target_ones])\n",
    "\n",
    "    # Mezclar los datos. Asegúrate de que los datos positivos no sigan a los negativos: esto dificultará que los algoritmos aprendan.\n",
    "    features_downsampled, target_downsampled = shuffle(features_downsampled, target_downsampled, random_state=12345)\n",
    "\n",
    "    return features_downsampled, target_downsampled\n",
    "\n",
    "#----------------------------------------------"
   ]
  },
  {
   "cell_type": "code",
   "execution_count": 47,
   "metadata": {},
   "outputs": [
    {
     "name": "stdout",
     "output_type": "stream",
     "text": [
      "         Train dataset: features=(3355, 4),  target=(3355,)\n",
      "Train balanced dataset: features=(666, 4), target=(666,)\n"
     ]
    }
   ],
   "source": [
    "# balanceamos los datos de entrenamiento con el sobremuestreo\n",
    "\n",
    "X_train, X_test, y_train, y_test = split_data(df)\n",
    "\n",
    "X_upsampled, y_upsampled = downsample(X_train, y_train, 0.1)\n",
    "\n",
    "print(f'         Train dataset: features={X_train.shape},  target={y_train.shape}')\n",
    "print(f'Train balanced dataset: features={X_upsampled.shape}, target={y_upsampled.shape}')"
   ]
  },
  {
   "cell_type": "code",
   "execution_count": 48,
   "metadata": {},
   "outputs": [
    {
     "data": {
      "image/png": "[encoded data removed]",
      "text/plain": [
       "<Figure size 640x480 with 1 Axes>"
      ]
     },
     "metadata": {},
     "output_type": "display_data"
    }
   ],
   "source": [
    "# comprueba el equilibrio de clases con value_counts()\n",
    "\n",
    "y_upsampled.value_counts().plot(kind='bar')\n",
    "plt.title('Balanced classes')\n",
    "plt.show()"
   ]
  },
  {
   "attachments": {},
   "cell_type": "markdown",
   "metadata": {},
   "source": [
    "Ahora probaremos el modelo clasificador KNN con clases equilibradas:"
   ]
  },
  {
   "cell_type": "code",
   "execution_count": 49,
   "metadata": {},
   "outputs": [
    {
     "name": "stdout",
     "output_type": "stream",
     "text": [
      "\n",
      "Balanced Unscaled data:\n",
      "F1 score with 1 neighbors 1.00\n",
      "F1 score with 2 neighbors 0.86\n",
      "F1 score with 3 neighbors 0.94\n",
      "F1 score with 4 neighbors 0.84\n",
      "F1 score with 5 neighbors 0.90\n",
      "F1 score with 6 neighbors 0.84\n",
      "F1 score with 7 neighbors 0.89\n",
      "F1 score with 8 neighbors 0.84\n",
      "F1 score with 9 neighbors 0.89\n",
      "F1 score with 10 neighbors 0.83\n",
      "\n",
      "Balanced Scaled data:\n",
      "F1 score with 1 neighbors 1.00\n",
      "F1 score with 2 neighbors 0.99\n",
      "F1 score with 3 neighbors 1.00\n",
      "F1 score with 4 neighbors 1.00\n",
      "F1 score with 5 neighbors 1.00\n",
      "F1 score with 6 neighbors 1.00\n",
      "F1 score with 7 neighbors 1.00\n",
      "F1 score with 8 neighbors 1.00\n",
      "F1 score with 9 neighbors 1.00\n",
      "F1 score with 10 neighbors 1.00\n"
     ]
    }
   ],
   "source": [
    "# Clasificador k-Nearest Neighbor\n",
    "\n",
    "dataset = {'Balanced Unscaled data':df, 'Balanced Scaled data':df_scaled}\n",
    "\n",
    "for name, data in dataset.items():\n",
    "    \n",
    "    # Segmentar datos\n",
    "    X_train, X_test, y_train, y_test = split_data(data)\n",
    "\n",
    "    # Equilibramos las clases\n",
    "    X_train, y_train = downsample(X_train, y_train, 0.1)\n",
    "    X_test, y_test = downsample(X_train, y_train, 0.1)\n",
    "    \n",
    "    print(f'\\n{name}:')\n",
    "\n",
    "    vector_score = []\n",
    "    for n_neighbors in range(1,11):\n",
    "        knn = KNeighborsClassifier(n_neighbors)\n",
    "        knn.fit(X_train, y_train)\n",
    "        predict = knn.predict(X_test)\n",
    "        score = f1_score(y_test, predict)\n",
    "        \n",
    "        print(f'F1 score with {n_neighbors} neighbors {score:.2f}')\n",
    "        vector_score.append(score)\n",
    "\n",
    "    scores_summary[name+'_f1'] = vector_score"
   ]
  },
  {
   "cell_type": "code",
   "execution_count": 50,
   "metadata": {},
   "outputs": [
    {
     "data": {
      "image/png": "[encoded data removed]",
      "text/plain": [
       "<Figure size 1000x500 with 1 Axes>"
      ]
     },
     "metadata": {},
     "output_type": "display_data"
    }
   ],
   "source": [
    "# Graficamos los scores\n",
    "\n",
    "scores_summary.plot(kind='bar', figsize=(10,5))\n",
    "plt.xlabel('neighbors')\n",
    "plt.ylabel('F1 score')\n",
    "plt.title('Scores of classifer K Nearest Neighbors')\n",
    "plt.show()"
   ]
  },
  {
   "attachments": {},
   "cell_type": "markdown",
   "metadata": {},
   "source": [
    "Podemos notar alta calidad en nuestro, el escalado de datos mejoró las métricas, pero el equilibrio de las clases mejoró más significativamente, las métricas son perfectas!. \n",
    "\n",
    "Nuestro modelo entrenado lo hace mejor que el modelo aleatorio."
   ]
  },
  {
   "attachments": {},
   "cell_type": "markdown",
   "metadata": {},
   "source": [
    "# Tarea 3. Regresión lineal"
   ]
  },
  {
   "attachments": {},
   "cell_type": "markdown",
   "metadata": {},
   "source": [
    "Con `insurance_benefits` como objetivo, evalúa cuál sería la RECM de un modelo de regresión lineal."
   ]
  },
  {
   "attachments": {},
   "cell_type": "markdown",
   "metadata": {},
   "source": [
    "Construiremos una implementación de regresión lineal. Para ello, recuerdaremos cómo está formulada la solución de la tarea de regresión lineal en términos de LA. Compruebaremos la RECM tanto para los datos originales como para los escalados. ¿Podemos ver alguna diferencia en la RECM con respecto a estos dos casos?\n",
    "\n",
    "Denotemos\n",
    "- $X$: matriz de características; cada fila es un caso, cada columna es una característica, la primera columna está formada por unidades\n",
    "- $y$ — objetivo (un vector)\n",
    "- $\\hat{y}$ — objetivo estimado (un vector)\n",
    "- $w$ — vector de pesos\n",
    "\n",
    "La tarea de regresión lineal en el lenguaje de las matrices puede formularse así:\n",
    "$$\n",
    "y = Xw\n",
    "$$\n",
    "\n",
    "El objetivo de entrenamiento es entonces encontrar esa $w$ que minimice la distancia L2 (ECM) entre $Xw$ y $y$:\n",
    "\n",
    "$$\n",
    "\\min_w d_2(Xw, y) \\quad \\text{or} \\quad \\min_w \\text{MSE}(Xw, y)\n",
    "$$\n",
    "\n",
    "Parece que hay una solución analítica para lo anteriormente expuesto:\n",
    "$$\n",
    "w = (X^T X)^{-1} X^T y\n",
    "$$\n",
    "\n",
    "La fórmula anterior puede servir para encontrar los pesos $w$ y estos últimos pueden utilizarse para calcular los valores predichos\n",
    "$$\n",
    "\\hat{y} = X_{val}w\n",
    "$$"
   ]
  },
  {
   "attachments": {},
   "cell_type": "markdown",
   "metadata": {},
   "source": [
    "Dividiremos todos los datos correspondientes a las etapas de entrenamiento/prueba respetando la proporción 70:30. Utilizaremos la métrica RECM para evaluar el modelo."
   ]
  },
  {
   "cell_type": "code",
   "execution_count": 51,
   "metadata": {},
   "outputs": [],
   "source": [
    "class MyLinearRegression:\n",
    "    \n",
    "    def __init__(self):\n",
    "        self.weights = None\n",
    "    \n",
    "    def fit(self, X, y):\n",
    "        X2 = np.append(np.ones([len(X), 1]), X, axis=1)\n",
    "        weights = np.linalg.inv(X2.T.dot(X2)).dot(X2.T).dot(y)\n",
    "        self.weights  = weights[1:]\n",
    "        self.w0 = weights[0]\n",
    "\n",
    "    def predict(self, X):\n",
    "        y_pred = X.dot(self.weights) + self.w0\n",
    "        return y_pred"
   ]
  },
  {
   "cell_type": "code",
   "execution_count": 52,
   "metadata": {},
   "outputs": [],
   "source": [
    "def eval_regressor(y_true, y_pred):\n",
    "    \n",
    "    rmse = math.sqrt(mean_squared_error(y_true, y_pred))\n",
    "    print(f'RMSE: {rmse:.2f}')\n",
    "    \n",
    "    r2 = math.sqrt(r2_score(y_true, y_pred))\n",
    "    print(f'R2: {r2:.2f}')    "
   ]
  },
  {
   "cell_type": "code",
   "execution_count": 53,
   "metadata": {},
   "outputs": [],
   "source": [
    "# Función para segmentar de datos en entrenamiento y prueba 70:30\n",
    "\n",
    "def split_data_rl(df):\n",
    "    features = df.drop(['insurance_benefits_received', 'insurance_benefits'], axis=1)\n",
    "    target = df['insurance_benefits']\n",
    "\n",
    "    X_train, X_test, y_train, y_test = train_test_split(features,\n",
    "                                                        target,\n",
    "                                                        test_size=0.30,\n",
    "                                                        random_state=12345)\n",
    "    return X_train, X_test, y_train, y_test "
   ]
  },
  {
   "cell_type": "code",
   "execution_count": 54,
   "metadata": {},
   "outputs": [
    {
     "name": "stdout",
     "output_type": "stream",
     "text": [
      "\n",
      "Unscaled data:\n",
      "- Predictions:\n",
      "1098    0\n",
      "2464    1\n",
      "1885    0\n",
      "524     0\n",
      "4398    0\n",
      "Name: insurance_benefits, dtype: int64\n",
      "\n",
      "- Weights [-3.01335073e-04  3.24187284e-02 -3.30737899e-07 -1.25380128e-02]\n",
      "\n",
      "- Scores:\n",
      "RMSE: 0.33\n",
      "R2: 0.66\n",
      "\n",
      "Scaled data:\n",
      "- Predictions:\n",
      "1098    0\n",
      "2464    1\n",
      "1885    0\n",
      "524     0\n",
      "4398    0\n",
      "Name: insurance_benefits, dtype: int64\n",
      "\n",
      "- Weights [-3.01335073e-04  1.78303006e+00 -2.19279227e-02 -7.52280766e-02]\n",
      "\n",
      "- Scores:\n",
      "RMSE: 0.33\n",
      "R2: 0.66\n"
     ]
    }
   ],
   "source": [
    "# Linear Regression\n",
    "\n",
    "dataset = {'Unscaled data':df, 'Scaled data':df_scaled}\n",
    "\n",
    "for name, data in dataset.items():\n",
    "    \n",
    "    # Segmentar datos\n",
    "    X_train, X_test, y_train, y_test = split_data_rl(data)\n",
    "    print(f'\\n{name}:')\n",
    "\n",
    "    lr = MyLinearRegression()\n",
    "    lr.fit(X_train, y_train)\n",
    "    y_test_pred = lr.predict(X_test)\n",
    "    \n",
    "    print('- Predictions:')\n",
    "    print(y_test.tail())\n",
    "    \n",
    "    print()\n",
    "    print(f'- Weights {lr.weights}\\n')\n",
    "    print('- Scores:')\n",
    "    \n",
    "    eval_regressor(y_test, y_test_pred)"
   ]
  },
  {
   "attachments": {},
   "cell_type": "markdown",
   "metadata": {},
   "source": [
    "Hemos entrenado nuestro modelo de Regresion Lineal con los datos escalados y sin escalar. \n",
    "\n",
    "El cálculo de los pesos nos indica que hay variables más fuertes que otras, y las métricas no varían en cada caso se obtuvo los scores RMSE 0.33 y el R2 de 0.66. En ambos casos se puede mejorar."
   ]
  },
  {
   "attachments": {},
   "cell_type": "markdown",
   "metadata": {},
   "source": [
    "# Tarea 4. Ofuscar datos"
   ]
  },
  {
   "attachments": {},
   "cell_type": "markdown",
   "metadata": {},
   "source": [
    "Vamos a ofuscar los datos multiplicando las características numéricas (recuerda que se pueden ver como la matriz $X$) por una matriz invertible $P$. \n",
    "\n",
    "$$\n",
    "X' = X \\times P\n",
    "$$\n",
    "\n",
    "Compruebaremos cómo quedarán los valores de las características después de la transformación. Asegúrate de que $P$ sea realmente invertible."
   ]
  },
  {
   "cell_type": "code",
   "execution_count": 55,
   "metadata": {},
   "outputs": [],
   "source": [
    "personal_info_column_list = ['gender', 'age', 'income', 'family_members']\n",
    "df_pn = df[personal_info_column_list]"
   ]
  },
  {
   "cell_type": "code",
   "execution_count": 56,
   "metadata": {},
   "outputs": [
    {
     "data": {
      "text/plain": [
       "array([[    1.,    41., 49600.,     1.],\n",
       "       [    0.,    46., 38000.,     1.],\n",
       "       [    0.,    29., 21000.,     0.],\n",
       "       ...,\n",
       "       [    0.,    20., 33900.,     2.],\n",
       "       [    1.,    22., 32700.,     3.],\n",
       "       [    1.,    28., 40600.,     1.]])"
      ]
     },
     "execution_count": 56,
     "metadata": {},
     "output_type": "execute_result"
    }
   ],
   "source": [
    "X = df_pn.to_numpy()\n",
    "np.set_printoptions(suppress=True) # Suprime notación cientifica para datos manejados por numpy\n",
    "X"
   ]
  },
  {
   "attachments": {},
   "cell_type": "markdown",
   "metadata": {},
   "source": [
    "Generar una matriz aleatoria $P$."
   ]
  },
  {
   "cell_type": "code",
   "execution_count": 57,
   "metadata": {},
   "outputs": [],
   "source": [
    "rng = np.random.default_rng(seed=42)\n",
    "P = rng.random(size=(X.shape[1], X.shape[1]))"
   ]
  },
  {
   "attachments": {},
   "cell_type": "markdown",
   "metadata": {},
   "source": [
    "Comprobar que la matriz P sea invertible"
   ]
  },
  {
   "cell_type": "code",
   "execution_count": 58,
   "metadata": {},
   "outputs": [
    {
     "data": {
      "text/plain": [
       "array([[ 1., -0., -0., -0.],\n",
       "       [ 0.,  1.,  0., -0.],\n",
       "       [-0.,  0.,  1.,  0.],\n",
       "       [ 0., -0., -0.,  1.]])"
      ]
     },
     "execution_count": 58,
     "metadata": {},
     "output_type": "execute_result"
    }
   ],
   "source": [
    "np.linalg.inv(P) @ P"
   ]
  },
  {
   "attachments": {},
   "cell_type": "markdown",
   "metadata": {},
   "source": [
    "Podemos verificar que nuestra matriz P es una matriz invertible, puesto que obtuvimos una matriz de identidad del producto de la matriz P invertida con P: \n",
    "\n",
    "$P^{-1} P$ = I"
   ]
  },
  {
   "attachments": {},
   "cell_type": "markdown",
   "metadata": {},
   "source": [
    "¿Puedes adivinar la edad o los ingresos de los clientes después de la transformación?"
   ]
  },
  {
   "cell_type": "code",
   "execution_count": 59,
   "metadata": {},
   "outputs": [
    {
     "data": {
      "text/plain": [
       "array([[ 6359.71527314, 22380.40467609, 18424.09074184, 46000.69669016],\n",
       "       [ 4873.29406479, 17160.36702982, 14125.78076133, 35253.45577301],\n",
       "       [ 2693.11742928,  9486.397744  ,  7808.83156024, 19484.86063067],\n",
       "       ...,\n",
       "       [ 4346.2234249 , 15289.24126492, 12586.16264392, 31433.50888552],\n",
       "       [ 4194.09324155, 14751.9910242 , 12144.02930637, 30323.88763426],\n",
       "       [ 5205.46827354, 18314.24814446, 15077.01370762, 37649.59295455]])"
      ]
     },
     "execution_count": 59,
     "metadata": {},
     "output_type": "execute_result"
    }
   ],
   "source": [
    "# Transformamos mediante la ofuscación nuestros datos\n",
    "XP = np.dot(X, P)\n",
    "XP"
   ]
  },
  {
   "attachments": {},
   "cell_type": "markdown",
   "metadata": {},
   "source": [
    "- Después de la transformación los datos se ven enmascarados, no se logran adivinar características de los clientes."
   ]
  },
  {
   "attachments": {},
   "cell_type": "markdown",
   "metadata": {},
   "source": [
    "¿Puedes recuperar los datos originales de $X'$ si conoces $P$? Intenta comprobarlo a través de los cálculos moviendo $P$ del lado derecho de la fórmula anterior al izquierdo. En este caso las reglas de la multiplicación matricial son realmente útiles"
   ]
  },
  {
   "cell_type": "code",
   "execution_count": 60,
   "metadata": {},
   "outputs": [
    {
     "data": {
      "text/plain": [
       "array([[    1.,    41., 49600.,     1.],\n",
       "       [   -0.,    46., 38000.,     1.],\n",
       "       [    0.,    29., 21000.,     0.],\n",
       "       ...,\n",
       "       [    0.,    20., 33900.,     2.],\n",
       "       [    1.,    22., 32700.,     3.],\n",
       "       [    1.,    28., 40600.,     1.]])"
      ]
     },
     "execution_count": 60,
     "metadata": {},
     "output_type": "execute_result"
    }
   ],
   "source": [
    "recovered = np.dot(XP, np.linalg.inv(P))\n",
    "recovered"
   ]
  },
  {
   "attachments": {},
   "cell_type": "markdown",
   "metadata": {},
   "source": [
    "Hemos obtenido los valores originales de X realizando la multiplicación de $X'$ con la inversa de $P$."
   ]
  },
  {
   "attachments": {},
   "cell_type": "markdown",
   "metadata": {},
   "source": [
    "Muestra los tres casos para algunos clientes, ejemplo los clientes con indice 1 y 2.\n",
    "- Datos originales\n",
    "- El que está transformado\n",
    "- El que está invertido (recuperado)"
   ]
  },
  {
   "cell_type": "code",
   "execution_count": 61,
   "metadata": {},
   "outputs": [
    {
     "name": "stdout",
     "output_type": "stream",
     "text": [
      "1- Original data\n",
      "   gender  age   income  family_members\n",
      "1       0   46  38000.0               1\n",
      "2       0   29  21000.0               0\n",
      "\n",
      "2- Obfuscated data\n",
      "[[ 4873.29406479 17160.36702982 14125.78076133 35253.45577301]\n",
      " [ 2693.11742928  9486.397744    7808.83156024 19484.86063067]]\n",
      "\n",
      "3- Recovered data\n",
      "[[   -0.    46. 38000.     1.]\n",
      " [    0.    29. 21000.     0.]]\n"
     ]
    }
   ],
   "source": [
    "# Cliente con index 1 y 2\n",
    "\n",
    "# datos original\n",
    "print('1- Original data')\n",
    "print(df_pn.iloc[[1,2]])\n",
    "\n",
    "print('\\n2- Obfuscated data')\n",
    "# Transformado\n",
    "print(XP[1:3])\n",
    "\n",
    "# Recuperado\n",
    "print('\\n3- Recovered data')\n",
    "print(np.round(recovered[1:3], decimals=2))"
   ]
  },
  {
   "attachments": {},
   "cell_type": "markdown",
   "metadata": {},
   "source": [
    "Seguramente puedes ver que algunos valores no son exactamente iguales a los de los datos originales. ¿Cuál podría ser la razón de ello?"
   ]
  },
  {
   "attachments": {},
   "cell_type": "markdown",
   "metadata": {},
   "source": [
    "- Los datos son los mismos después de la recuperación, vemos variaciones del formato con el 0 negativo. Esto puede deberse a que numpy usa transformación científica a los datos."
   ]
  },
  {
   "attachments": {},
   "cell_type": "markdown",
   "metadata": {},
   "source": [
    "## Prueba de que la ofuscación de datos puede funcionar con regresión lineal"
   ]
  },
  {
   "attachments": {},
   "cell_type": "markdown",
   "metadata": {},
   "source": [
    "En este proyecto la tarea de regresión se ha resuelto con la regresión lineal. Vamos a demostrar analíticamente que el método de ofuscación no afectará a la regresión lineal en términos de valores predichos, es decir, que sus valores seguirán siendo los mismos."
   ]
  },
  {
   "attachments": {},
   "cell_type": "markdown",
   "metadata": {},
   "source": [
    "Entonces, los datos están ofuscados y ahora tenemos $X \\times P$ en lugar de tener solo $X$. En consecuencia, hay otros pesos $w_P$ como\n",
    "$$\n",
    "w = (X^T X)^{-1} X^T y \\quad \\Rightarrow \\quad w_P = [(XP)^T XP]^{-1} (XP)^T y\n",
    "$$"
   ]
  },
  {
   "attachments": {},
   "cell_type": "markdown",
   "metadata": {},
   "source": [
    "*¿Cómo se relacionarían $w$ y $w_P$ si simplificáramos la fórmula de $w_P$ anterior?*\n",
    "\n",
    "Veamos como están realacionadas $w$ y $w_P$ simplificando la fórmula de $w_P$. Mostraremos el paso a paso usando las propiedades de las matrices:\n",
    "\n",
    "$$\n",
    "w_P = ((XP)^T XP)^{-1} (XP)^T y \n",
    "$$\n",
    "\n",
    "1. Aplicando $(𝐴𝐵)^𝑇 = 𝐵^𝑇𝐴^𝑇$ entonces,\n",
    "\n",
    "$$\n",
    "w_P = (P^T X^T XP)^{-1} P^T X^T y\n",
    "$$\n",
    "\n",
    "2. Luego $(𝐴𝐵)^{-1} = 𝐵^{-1} 𝐴^{-1}$ entonces,\n",
    "\n",
    "$$\n",
    "w_P = P^{-1} X^{-1} (X^T)^{-1} (P^T)^{-1} P^T X^T y\n",
    "$$\n",
    "\n",
    "3. Con $A^{-1}A = AA^{-1} = I$, y $ IA = A$ y $AI = A$ entonces,\n",
    "\n",
    "$$\n",
    "w_P = P^{-1} X^{-1} (X^T)^{-1} I X^T y\n",
    "$$\n",
    "\n",
    "$$\n",
    "w_P = P^{-1} X^{-1} (X^T)^{-1} X^T y\n",
    "$$\n",
    "\n",
    "4. Entonces volvemos a $B^T A^T = (AB)^T$\n",
    "\n",
    "$$\n",
    "w_P = P^{-1} (X^T X)^{-1} X^T y\n",
    "$$\n",
    "\n",
    "5. Tenemos finalmente que,\n",
    "\n",
    "$$\n",
    "w_P = P^{-1} w\n",
    "$$\n",
    "\n",
    "$w_P$ y $w$ están relacionadas, $w_P$ es igual al producto de la matriz P inversa y los pesos w originales."
   ]
  },
  {
   "attachments": {},
   "cell_type": "markdown",
   "metadata": {},
   "source": [
    "**Prueba analítica**"
   ]
  },
  {
   "attachments": {},
   "cell_type": "markdown",
   "metadata": {},
   "source": [
    "*¿Cuáles serían los valores predichos con $w_P$?*\n",
    "\n",
    "El cálculo de valores predichos usando regresión lineal se representaría así: $ \\hat{y} = Xw $\n",
    "\n",
    "En la ofuscación de datos $X$ se representa como $XP$ y los pesos $w$ serán representados $w_P$, entonces tenemos que:\n",
    "\n",
    "$$\n",
    "\\hat{y}_P = XPw_P \n",
    "$$\n",
    "\n",
    "Aplicamos $w_P$ = $P^{-1}w$\n",
    "$$\n",
    "\\hat{y}_P = XPP^{-1}w\n",
    "$$\n",
    "\n",
    "Aplicamos $PP^{-1}$ = $I$\n",
    "$$\n",
    "\\hat{y}_P = XIw\n",
    "$$\n",
    "\n",
    "$$\n",
    "\\hat{y}_P = Xw\n",
    "$$\n",
    "\n",
    "$$\n",
    "\\hat{y}_P = \\hat{y}\n",
    "$$"
   ]
  },
  {
   "attachments": {},
   "cell_type": "markdown",
   "metadata": {},
   "source": [
    "Como resultado tenemos que, los valores predichos con los pesos $w_P$ serán iguales que los valores predichos que calculemos con $w$. Es decir, las predicciones que calculemos con los pesos de los valores originales o con los pesos de los valores ofuscados, no variarán."
   ]
  },
  {
   "attachments": {},
   "cell_type": "markdown",
   "metadata": {},
   "source": [
    "*¿Qué significa esto para la calidad de la regresión lineal si esta se mide mediante la RECM?*\n",
    "\n",
    "Partiendo de la demostración de que $ \\hat{y}_P = \\hat{y} $ es decir, los valores predichos no cambiarán tanto si usamos valores originales o si usamos valores ofuscados, por ende, nuestras métricas RECM se mantendrán iguales. \n",
    "\n",
    "A continuación realizaremos el entrenamiento del modelo de regresión lineal y comprobaremos esta prueba analítica."
   ]
  },
  {
   "attachments": {},
   "cell_type": "markdown",
   "metadata": {},
   "source": [
    "## Prueba de regresión lineal con ofuscación de datos"
   ]
  },
  {
   "attachments": {},
   "cell_type": "markdown",
   "metadata": {},
   "source": [
    "Ahora, probemos que la regresión lineal pueda funcionar, en términos computacionales, con la transformación de ofuscación elegida.\n",
    "Construye un procedimiento o una clase que ejecute la regresión lineal opcionalmente con la ofuscación. Puedes usar una implementación de regresión lineal de scikit-learn o tu propia implementación.\n",
    "Ejecuta la regresión lineal para los datos originales y los ofuscados, compara los valores predichos y los valores de las métricas RMSE y $R^2$. ¿Hay alguna diferencia?"
   ]
  },
  {
   "attachments": {},
   "cell_type": "markdown",
   "metadata": {},
   "source": [
    "**Procedimiento**\n",
    "\n",
    "- Crea una matriz cuadrada $P$ de números aleatorios.- Comprueba que sea invertible. Si no lo es, repite el primer paso hasta obtener una matriz invertible.- <¡ tu comentario aquí !>\n",
    "- Utiliza $XP$ como la nueva matriz de características"
   ]
  },
  {
   "cell_type": "code",
   "execution_count": 62,
   "metadata": {},
   "outputs": [],
   "source": [
    "def obfuscation(df, columns_name):\n",
    "\n",
    "    X = df[columns_name].to_numpy()\n",
    "    np.set_printoptions(suppress=True) # Suprime notación cientifica para datos manejados por numpy\n",
    " \n",
    "    # genera P, una matriz aleatoria\n",
    "    rng = np.random.default_rng(seed=42)\n",
    "    P = rng.random(size=(X.shape[1], X.shape[1]))\n",
    "    \n",
    "    # Transformamos mediante la ofuscación nuestros datos\n",
    "    XP = np.dot(X, P)\n",
    "    XP_data = pd.DataFrame(XP, columns=[columns_name], index=df.index)\n",
    "    return XP_data"
   ]
  },
  {
   "cell_type": "code",
   "execution_count": 63,
   "metadata": {},
   "outputs": [],
   "source": [
    "class MyLinearRegression:\n",
    "    \n",
    "    def __init__(self, ):\n",
    "        self.weights = None\n",
    "    \n",
    "    def fit(self, X, y):\n",
    "        X2 = np.append(np.ones([len(X), 1]), X, axis=1)\n",
    "        weights = np.linalg.inv(X2.T.dot(X2)).dot(X2.T).dot(y)\n",
    "        self.weights  = weights[1:]\n",
    "        self.w0 = weights[0]\n",
    "\n",
    "    def predict(self, X):\n",
    "        y_pred = X.dot(self.weights) + self.w0\n",
    "        return y_pred"
   ]
  },
  {
   "cell_type": "code",
   "execution_count": 64,
   "metadata": {},
   "outputs": [],
   "source": [
    "def eval_regressor(y_true, y_pred):\n",
    "    \n",
    "    rmse = math.sqrt(mean_squared_error(y_true, y_pred))\n",
    "    print(f'RMSE: {rmse:.2f}')\n",
    "    \n",
    "    r2 = math.sqrt(r2_score(y_true, y_pred))\n",
    "    print(f'R2: {r2:.2f}')    "
   ]
  },
  {
   "cell_type": "code",
   "execution_count": 65,
   "metadata": {},
   "outputs": [
    {
     "name": "stdout",
     "output_type": "stream",
     "text": [
      "\n",
      "Original data:\n",
      "- Predictions:\n",
      "1098    0\n",
      "2464    1\n",
      "1885    0\n",
      "524     0\n",
      "4398    0\n",
      "Name: insurance_benefits, dtype: int64\n",
      "\n",
      "- Weights [-0.00030134  0.03241873 -0.00000033 -0.01253801]\n",
      "\n",
      "- Scores:\n",
      "RMSE: 0.33\n",
      "R2: 0.66\n",
      "\n",
      "Obfuscation data:\n",
      "- Predictions:\n",
      "1098    0\n",
      "2464    1\n",
      "1885    0\n",
      "524     0\n",
      "4398    0\n",
      "Name: insurance_benefits, dtype: int64\n",
      "\n",
      "- Weights [-0.06103159 -0.00019323  0.07086219 -0.01982151]\n",
      "\n",
      "- Scores:\n",
      "RMSE: 0.33\n",
      "R2: 0.66\n"
     ]
    }
   ],
   "source": [
    "# Linear Regression \n",
    "\n",
    "feature_names = ['gender', 'age', 'income', 'family_members']\n",
    "\n",
    "for name in ['Original', 'Obfuscation']:\n",
    "    \n",
    "    # Segmentar datos\n",
    "    X_train, X_test, y_train, y_test = split_data_rl(df)\n",
    "    \n",
    "    if name == 'Obfuscation':\n",
    "        X_train = obfuscation(X_train, feature_names)\n",
    "        X_test = obfuscation(X_test, feature_names)\n",
    "    \n",
    "    print(f'\\n{name} data:')\n",
    "\n",
    "    lr = MyLinearRegression()\n",
    "    lr.fit(X_train, y_train)\n",
    "    y_test_pred = lr.predict(X_test)\n",
    "    \n",
    "    print('- Predictions:')\n",
    "    print(y_test.tail())\n",
    "    \n",
    "    print()\n",
    "    print(f'- Weights {lr.weights}\\n')\n",
    "    print('- Scores:')\n",
    "    \n",
    "    eval_regressor(y_test, y_test_pred)\n"
   ]
  },
  {
   "attachments": {},
   "cell_type": "markdown",
   "metadata": {},
   "source": [
    "Hemos entrenado nuestro modelo de regresion lineal con datos originales y datos ofuscaods. \n",
    "\n",
    "Notamos que los pesos de cada variable independiente varian. Sin embargo nuestras métricas varian puesto que las predicciones son iguales. Trabajar con los datos ofuscados no afecta la calidad del modelo."
   ]
  },
  {
   "attachments": {},
   "cell_type": "markdown",
   "metadata": {},
   "source": [
    "# Conclusiones"
   ]
  },
  {
   "attachments": {},
   "cell_type": "markdown",
   "metadata": {},
   "source": [
    "- Dando inicio a este proyecto, se prepararon los datos originales, eliminando el 0.03% registros duplicados y el 1,11% valores extremos en la columna edad y income. \n",
    "\n",
    "- Se encontraron clientes similares de un cliente dado usando algoritmos de `Euclideana` y `Manhattan`. Las distancias calculadas de los clientes más similares cambian en base a si los datos están o no escalados. Saber estos los clientes similares de alguno en específico, ayudará a los agentes de la compañía con el marketing.\n",
    "\n",
    "- Con el fin de predecir si un cliente recibe o no al menos una prestación del seguro, se entrenaron varios modelos de clasificación; usamos como algoritmo a `K'NeighborsClassifier`. Se obtuvo que el mejor modelo usando datos escalados y clases equilibradas. Además pudimos comprobar que nuestro modelo es mucho mejor que un simple modelo aleatorio.\n",
    "\n",
    "- Construimos un modelo de regresión lineal para predecir el número de beneficios que contrató un cliente `insurance_benefits`. Comprobamos que tanto para los datos originales como para los escalados las métricas no varían obteniendo un RMSE 0.33 y el R2 de 0.66. En ambos casos se puede mejorar.\n",
    "\n",
    "- Finalmente, pudimos hacer un análisis para demostrar si al ofuscar los datos cambiaría o no la calidad del modelo predictivo. Realizamos este análisis acompañado de una prueba analítica y se comprobó mediante el entrenamiento de un modelo de regresión lineal con datos originales y ofuscados, obteniendo como conclusión que, la ofuscación no cambian la calidad de nuestro modelo, las métricas se mantienen iguales tanto para los datos originales como para los datos enmascarados."
   ]
  }
 ],
 "metadata": {
  "kernelspec": {
   "display_name": "Python 3 (ipykernel)",
   "language": "python",
   "name": "python3"
  },
  "language_info": {
   "codemirror_mode": {
    "name": "ipython",
    "version": 3
   },
   "file_extension": ".py",
   "mimetype": "text/x-python",
   "name": "python",
   "nbconvert_exporter": "python",
   "pygments_lexer": "ipython3",
   "version": "3.9.15"
  },
  "toc": {
   "base_numbering": 1,
   "nav_menu": {},
   "number_sections": true,
   "sideBar": true,
   "skip_h1_title": true,
   "title_cell": "Table of Contents",
   "title_sidebar": "Contents",
   "toc_cell": false,
   "toc_position": {},
   "toc_section_display": true,
   "toc_window_display": true
  }
 },
 "nbformat": 4,
 "nbformat_minor": 4
}
